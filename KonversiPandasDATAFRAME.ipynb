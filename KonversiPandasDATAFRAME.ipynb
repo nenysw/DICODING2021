{
  "nbformat": 4,
  "nbformat_minor": 0,
  "metadata": {
    "colab": {
      "name": "KonversiPandasDATAFRAME.ipynb",
      "provenance": [],
      "authorship_tag": "ABX9TyNOR/kJCEAERjr9mudrowmX",
      "include_colab_link": true
    },
    "kernelspec": {
      "name": "python3",
      "display_name": "Python 3"
    },
    "language_info": {
      "name": "python"
    }
  },
  "cells": [
    {
      "cell_type": "markdown",
      "metadata": {
        "id": "view-in-github",
        "colab_type": "text"
      },
      "source": [
        "<a href=\"https://colab.research.google.com/github/nenysw/DICODING2021/blob/main/KonversiPandasDATAFRAME.ipynb\" target=\"_parent\"><img src=\"https://colab.research.google.com/assets/colab-badge.svg\" alt=\"Open In Colab\"/></a>"
      ]
    },
    {
      "cell_type": "code",
      "metadata": {
        "colab": {
          "base_uri": "https://localhost:8080/"
        },
        "id": "b8eRSEUq-bl9",
        "outputId": "5ac794e2-fc8e-40cb-dede-c5b959616af9"
      },
      "source": [
        "print (\"mencoba\")"
      ],
      "execution_count": 1,
      "outputs": [
        {
          "output_type": "stream",
          "text": [
            "mencoba\n"
          ],
          "name": "stdout"
        }
      ]
    }
  ]
}